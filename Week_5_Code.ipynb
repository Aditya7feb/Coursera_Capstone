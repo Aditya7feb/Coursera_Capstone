{
 "cells": [
  {
   "cell_type": "markdown",
   "metadata": {},
   "source": [
    "This Notebook will be used for Week 4 Coding Purpose "
   ]
  },
  {
   "cell_type": "markdown",
   "metadata": {},
   "source": [
    "Project Title - (Data Anaysis for Real Estate Development Work in Patna)"
   ]
  },
  {
   "cell_type": "code",
   "execution_count": 1,
   "metadata": {
    "tags": []
   },
   "outputs": [
    {
     "output_type": "stream",
     "name": "stdout",
     "text": "Import Successful\n"
    }
   ],
   "source": [
    "import pandas as pd\n",
    "import numpy as np\n",
    "import json\n",
    "import requests\n",
    "import matplotlib.cm as cm\n",
    "import matplotlib.colors as colors\n",
    "import folium\n",
    "\n",
    "from geopy.geocoders import Nominatim\n",
    "import geopy \n",
    "import geocoder\n",
    "from bs4 import BeautifulSoup\n",
    "from pandas.io.json import json_normalize\n",
    "from sklearn.cluster import KMeans\n",
    "\n",
    "print('Import Successful')"
   ]
  },
  {
   "cell_type": "code",
   "execution_count": 2,
   "metadata": {},
   "outputs": [],
   "source": [
    "data = requests.get('https://en.wikipedia.org/wiki/Category:Neighbourhoods_in_Patna')\n",
    "data = data.text"
   ]
  },
  {
   "cell_type": "code",
   "execution_count": 3,
   "metadata": {},
   "outputs": [],
   "source": [
    "soup = BeautifulSoup(data, 'html.parser')"
   ]
  },
  {
   "cell_type": "code",
   "execution_count": 4,
   "metadata": {},
   "outputs": [],
   "source": [
    "neighbourhoodList = []"
   ]
  },
  {
   "cell_type": "code",
   "execution_count": 5,
   "metadata": {},
   "outputs": [],
   "source": [
    "for row in soup.find_all('div', class_='mw-category')[0].find_all('li'):\n",
    "    neighbourhoodList.append(row.text)"
   ]
  },
  {
   "cell_type": "code",
   "execution_count": 6,
   "metadata": {},
   "outputs": [
    {
     "output_type": "execute_result",
     "data": {
      "text/plain": "        Neighbourhood\n0       Ashok Rajpath\n1           Badalpura\n2  Bailey Road, Patna\n3         Bakhtiarpur\n4           Bankipore",
      "text/html": "<div>\n<style scoped>\n    .dataframe tbody tr th:only-of-type {\n        vertical-align: middle;\n    }\n\n    .dataframe tbody tr th {\n        vertical-align: top;\n    }\n\n    .dataframe thead th {\n        text-align: right;\n    }\n</style>\n<table border=\"1\" class=\"dataframe\">\n  <thead>\n    <tr style=\"text-align: right;\">\n      <th></th>\n      <th>Neighbourhood</th>\n    </tr>\n  </thead>\n  <tbody>\n    <tr>\n      <th>0</th>\n      <td>Ashok Rajpath</td>\n    </tr>\n    <tr>\n      <th>1</th>\n      <td>Badalpura</td>\n    </tr>\n    <tr>\n      <th>2</th>\n      <td>Bailey Road, Patna</td>\n    </tr>\n    <tr>\n      <th>3</th>\n      <td>Bakhtiarpur</td>\n    </tr>\n    <tr>\n      <th>4</th>\n      <td>Bankipore</td>\n    </tr>\n  </tbody>\n</table>\n</div>"
     },
     "metadata": {},
     "execution_count": 6
    }
   ],
   "source": [
    "patna_df = pd.DataFrame({'Neighbourhood' : neighbourhoodList})\n",
    "\n",
    "patna_df.head()"
   ]
  },
  {
   "cell_type": "code",
   "execution_count": 7,
   "metadata": {},
   "outputs": [
    {
     "output_type": "execute_result",
     "data": {
      "text/plain": "(41, 1)"
     },
     "metadata": {},
     "execution_count": 7
    }
   ],
   "source": [
    "patna_df.shape"
   ]
  },
  {
   "cell_type": "markdown",
   "metadata": {},
   "source": [
    "Getting Geographical Coordinates"
   ]
  },
  {
   "cell_type": "code",
   "execution_count": 8,
   "metadata": {},
   "outputs": [],
   "source": [
    "def get_latlng(Neighbourhood):\n",
    "    lat_lng_coords = None\n",
    "    while(lat_lng_coords is None):\n",
    "        g = geocoder.arcgis('{},Patna,Bihar'.format(Neighbourhood))\n",
    "        lat_lng_coords = g.latlng\n",
    "\n",
    "    return lat_lng_coords"
   ]
  },
  {
   "cell_type": "code",
   "execution_count": 9,
   "metadata": {},
   "outputs": [],
   "source": [
    "coords = [get_latlng(Neighbourhood) for Neighbourhood in patna_df['Neighbourhood'].tolist()]"
   ]
  },
  {
   "cell_type": "code",
   "execution_count": 10,
   "metadata": {},
   "outputs": [
    {
     "output_type": "execute_result",
     "data": {
      "text/plain": "[[25.623740000000055, 85.12997000000007],\n [25.57955000000004, 85.14967000000007],\n [25.60978088589063, 85.12355592308616],\n [25.46064000000007, 85.53914000000003],\n [25.61886000000004, 85.15568000000007],\n [25.46497000000005, 85.70828000000006],\n [25.606160000000045, 85.12250000000006],\n [25.600348323046713, 85.17543527923095],\n [25.56194000000005, 84.86305000000004],\n [25.62570995343536, 85.11039552862357],\n [25.62101000000007, 85.12653000000006],\n [25.610940021281564, 85.13090028193753],\n [25.621120000000076, 85.04452000000003],\n [25.640540000000044, 85.09963000000005],\n [25.636960000000045, 85.01285000000007],\n [25.608480000000043, 85.14199000000008],\n [25.508150000000057, 85.30690000000004],\n [25.612320000000068, 85.13880000000006],\n [25.61230000000006, 85.20228000000003],\n [25.616460000000075, 85.14851000000004],\n [25.606190000000026, 85.20052000000004],\n [25.582190000000026, 85.12629000000004],\n [25.592550000000074, 85.14625000000007],\n [25.58418000000006, 85.04353000000003],\n [25.482170000000053, 85.38468000000006],\n [25.614320000000077, 85.12703000000005],\n [25.59821000000005, 85.19250000000005],\n [25.359270000000038, 85.03980000000007],\n [25.383120000000076, 85.90965000000006],\n [25.59817000000004, 85.13953000000004],\n [25.57063000000005, 85.05978000000005],\n [25.325630000000046, 84.80500000000006],\n [25.601290000000063, 85.13751000000008],\n [25.60056000000003, 85.18273000000005],\n [25.597680000000025, 85.22478000000007],\n [25.57618000000008, 85.06747000000007],\n [25.60719000000006, 85.16530000000006],\n [25.467170000000067, 85.43045000000006],\n [25.601290000000063, 85.13751000000008],\n [25.647280000000023, 84.87418000000008],\n [25.582390000000032, 85.10094000000004]]"
     },
     "metadata": {},
     "execution_count": 10
    }
   ],
   "source": [
    "coords"
   ]
  },
  {
   "cell_type": "code",
   "execution_count": 11,
   "metadata": {},
   "outputs": [],
   "source": [
    "df_coords = pd.DataFrame(coords, columns = ['Latitude','Longitude'])"
   ]
  },
  {
   "cell_type": "code",
   "execution_count": 12,
   "metadata": {},
   "outputs": [],
   "source": [
    "patna_df['Latitude'] = df_coords['Latitude']\n",
    "patna_df['Longitude'] = df_coords['Longitude']"
   ]
  },
  {
   "cell_type": "code",
   "execution_count": 13,
   "metadata": {
    "tags": []
   },
   "outputs": [
    {
     "output_type": "stream",
     "name": "stdout",
     "text": "(41, 3)\n"
    }
   ],
   "source": [
    "print(patna_df.shape)"
   ]
  },
  {
   "cell_type": "code",
   "execution_count": 14,
   "metadata": {},
   "outputs": [
    {
     "output_type": "execute_result",
     "data": {
      "text/plain": "                   Neighbourhood   Latitude  Longitude\n0                  Ashok Rajpath  25.623740  85.129970\n1                      Badalpura  25.579550  85.149670\n2             Bailey Road, Patna  25.609781  85.123556\n3                    Bakhtiarpur  25.460640  85.539140\n4                      Bankipore  25.618860  85.155680\n5                           Barh  25.464970  85.708280\n6          Beer Chand Patel Path  25.606160  85.122500\n7                 Bhootnath Road  25.600348  85.175435\n8                          Bihta  25.561940  84.863050\n9                    Boring Road  25.625710  85.110396\n10                 Buddha Colony  25.621010  85.126530\n11  Dak Bungalow Crossing, Patna  25.610940  85.130900\n12                       Danapur  25.621120  85.044520\n13                  Digha, Patna  25.640540  85.099630\n14            Dinapur Cantonment  25.636960  85.012850\n15        Exhibition Road, Patna  25.608480  85.141990\n16                        Fatuha  25.508150  85.306900\n17                   Frazer Road  25.612320  85.138800\n18                Gaighat, Patna  25.612300  85.202280\n19            Gandhi Maidan Marg  25.616460  85.148510\n20                    Gulzarbagh  25.606190  85.200520\n21              Indrapuri, Patna  25.582190  85.126290\n22                    Kankarbagh  25.592550  85.146250\n23                       Khagaul  25.584180  85.043530\n24                     Khusrupur  25.482170  85.384680\n25                    Kidwaipuri  25.614320  85.127030\n26                       Kumhrar  25.598210  85.192500\n27                      Masaurhi  25.359270  85.039800\n28                        Mokama  25.383120  85.909650\n29               New Karbigahiya  25.598170  85.139530\n30                         Nohsa  25.570630  85.059780\n31                      Paliganj  25.325630  84.805000\n32                   Pataliputra  25.601290  85.137510\n33    Pataliputra Housing Colony  25.600560  85.182730\n34                    Patna City  25.597680  85.224780\n35               Phulwari Sharif  25.576180  85.067470\n36         Rajendra Nagar, Patna  25.607190  85.165300\n37                      Saidpura  25.467170  85.430450\n38               Serpentine Road  25.601290  85.137510\n39                  Maner Sharif  25.647280  84.874180\n40               Shivpuri, Patna  25.582390  85.100940",
      "text/html": "<div>\n<style scoped>\n    .dataframe tbody tr th:only-of-type {\n        vertical-align: middle;\n    }\n\n    .dataframe tbody tr th {\n        vertical-align: top;\n    }\n\n    .dataframe thead th {\n        text-align: right;\n    }\n</style>\n<table border=\"1\" class=\"dataframe\">\n  <thead>\n    <tr style=\"text-align: right;\">\n      <th></th>\n      <th>Neighbourhood</th>\n      <th>Latitude</th>\n      <th>Longitude</th>\n    </tr>\n  </thead>\n  <tbody>\n    <tr>\n      <th>0</th>\n      <td>Ashok Rajpath</td>\n      <td>25.623740</td>\n      <td>85.129970</td>\n    </tr>\n    <tr>\n      <th>1</th>\n      <td>Badalpura</td>\n      <td>25.579550</td>\n      <td>85.149670</td>\n    </tr>\n    <tr>\n      <th>2</th>\n      <td>Bailey Road, Patna</td>\n      <td>25.609781</td>\n      <td>85.123556</td>\n    </tr>\n    <tr>\n      <th>3</th>\n      <td>Bakhtiarpur</td>\n      <td>25.460640</td>\n      <td>85.539140</td>\n    </tr>\n    <tr>\n      <th>4</th>\n      <td>Bankipore</td>\n      <td>25.618860</td>\n      <td>85.155680</td>\n    </tr>\n    <tr>\n      <th>5</th>\n      <td>Barh</td>\n      <td>25.464970</td>\n      <td>85.708280</td>\n    </tr>\n    <tr>\n      <th>6</th>\n      <td>Beer Chand Patel Path</td>\n      <td>25.606160</td>\n      <td>85.122500</td>\n    </tr>\n    <tr>\n      <th>7</th>\n      <td>Bhootnath Road</td>\n      <td>25.600348</td>\n      <td>85.175435</td>\n    </tr>\n    <tr>\n      <th>8</th>\n      <td>Bihta</td>\n      <td>25.561940</td>\n      <td>84.863050</td>\n    </tr>\n    <tr>\n      <th>9</th>\n      <td>Boring Road</td>\n      <td>25.625710</td>\n      <td>85.110396</td>\n    </tr>\n    <tr>\n      <th>10</th>\n      <td>Buddha Colony</td>\n      <td>25.621010</td>\n      <td>85.126530</td>\n    </tr>\n    <tr>\n      <th>11</th>\n      <td>Dak Bungalow Crossing, Patna</td>\n      <td>25.610940</td>\n      <td>85.130900</td>\n    </tr>\n    <tr>\n      <th>12</th>\n      <td>Danapur</td>\n      <td>25.621120</td>\n      <td>85.044520</td>\n    </tr>\n    <tr>\n      <th>13</th>\n      <td>Digha, Patna</td>\n      <td>25.640540</td>\n      <td>85.099630</td>\n    </tr>\n    <tr>\n      <th>14</th>\n      <td>Dinapur Cantonment</td>\n      <td>25.636960</td>\n      <td>85.012850</td>\n    </tr>\n    <tr>\n      <th>15</th>\n      <td>Exhibition Road, Patna</td>\n      <td>25.608480</td>\n      <td>85.141990</td>\n    </tr>\n    <tr>\n      <th>16</th>\n      <td>Fatuha</td>\n      <td>25.508150</td>\n      <td>85.306900</td>\n    </tr>\n    <tr>\n      <th>17</th>\n      <td>Frazer Road</td>\n      <td>25.612320</td>\n      <td>85.138800</td>\n    </tr>\n    <tr>\n      <th>18</th>\n      <td>Gaighat, Patna</td>\n      <td>25.612300</td>\n      <td>85.202280</td>\n    </tr>\n    <tr>\n      <th>19</th>\n      <td>Gandhi Maidan Marg</td>\n      <td>25.616460</td>\n      <td>85.148510</td>\n    </tr>\n    <tr>\n      <th>20</th>\n      <td>Gulzarbagh</td>\n      <td>25.606190</td>\n      <td>85.200520</td>\n    </tr>\n    <tr>\n      <th>21</th>\n      <td>Indrapuri, Patna</td>\n      <td>25.582190</td>\n      <td>85.126290</td>\n    </tr>\n    <tr>\n      <th>22</th>\n      <td>Kankarbagh</td>\n      <td>25.592550</td>\n      <td>85.146250</td>\n    </tr>\n    <tr>\n      <th>23</th>\n      <td>Khagaul</td>\n      <td>25.584180</td>\n      <td>85.043530</td>\n    </tr>\n    <tr>\n      <th>24</th>\n      <td>Khusrupur</td>\n      <td>25.482170</td>\n      <td>85.384680</td>\n    </tr>\n    <tr>\n      <th>25</th>\n      <td>Kidwaipuri</td>\n      <td>25.614320</td>\n      <td>85.127030</td>\n    </tr>\n    <tr>\n      <th>26</th>\n      <td>Kumhrar</td>\n      <td>25.598210</td>\n      <td>85.192500</td>\n    </tr>\n    <tr>\n      <th>27</th>\n      <td>Masaurhi</td>\n      <td>25.359270</td>\n      <td>85.039800</td>\n    </tr>\n    <tr>\n      <th>28</th>\n      <td>Mokama</td>\n      <td>25.383120</td>\n      <td>85.909650</td>\n    </tr>\n    <tr>\n      <th>29</th>\n      <td>New Karbigahiya</td>\n      <td>25.598170</td>\n      <td>85.139530</td>\n    </tr>\n    <tr>\n      <th>30</th>\n      <td>Nohsa</td>\n      <td>25.570630</td>\n      <td>85.059780</td>\n    </tr>\n    <tr>\n      <th>31</th>\n      <td>Paliganj</td>\n      <td>25.325630</td>\n      <td>84.805000</td>\n    </tr>\n    <tr>\n      <th>32</th>\n      <td>Pataliputra</td>\n      <td>25.601290</td>\n      <td>85.137510</td>\n    </tr>\n    <tr>\n      <th>33</th>\n      <td>Pataliputra Housing Colony</td>\n      <td>25.600560</td>\n      <td>85.182730</td>\n    </tr>\n    <tr>\n      <th>34</th>\n      <td>Patna City</td>\n      <td>25.597680</td>\n      <td>85.224780</td>\n    </tr>\n    <tr>\n      <th>35</th>\n      <td>Phulwari Sharif</td>\n      <td>25.576180</td>\n      <td>85.067470</td>\n    </tr>\n    <tr>\n      <th>36</th>\n      <td>Rajendra Nagar, Patna</td>\n      <td>25.607190</td>\n      <td>85.165300</td>\n    </tr>\n    <tr>\n      <th>37</th>\n      <td>Saidpura</td>\n      <td>25.467170</td>\n      <td>85.430450</td>\n    </tr>\n    <tr>\n      <th>38</th>\n      <td>Serpentine Road</td>\n      <td>25.601290</td>\n      <td>85.137510</td>\n    </tr>\n    <tr>\n      <th>39</th>\n      <td>Maner Sharif</td>\n      <td>25.647280</td>\n      <td>84.874180</td>\n    </tr>\n    <tr>\n      <th>40</th>\n      <td>Shivpuri, Patna</td>\n      <td>25.582390</td>\n      <td>85.100940</td>\n    </tr>\n  </tbody>\n</table>\n</div>"
     },
     "metadata": {},
     "execution_count": 14
    }
   ],
   "source": [
    "patna_df"
   ]
  },
  {
   "cell_type": "code",
   "execution_count": 15,
   "metadata": {},
   "outputs": [],
   "source": [
    "patna_df.to_csv('patna_df.csv', index = False)"
   ]
  },
  {
   "cell_type": "markdown",
   "metadata": {},
   "source": [
    "Creating Map of Patna with its Neighbourhood on top"
   ]
  },
  {
   "cell_type": "code",
   "execution_count": 16,
   "metadata": {
    "tags": []
   },
   "outputs": [
    {
     "output_type": "stream",
     "name": "stdout",
     "text": "Geographical Coordinates of Patna 25.6093239, 85.1235252\n"
    }
   ],
   "source": [
    "address = 'Patna, Bihar'\n",
    "\n",
    "geolocator = Nominatim(user_agent='Patna')\n",
    "location = geolocator.geocode(address)\n",
    "latitude = location.latitude\n",
    "longitude = location.longitude\n",
    "print('Geographical Coordinates of Patna {}, {}'.format(latitude, longitude))"
   ]
  },
  {
   "cell_type": "code",
   "execution_count": 17,
   "metadata": {},
   "outputs": [
    {
     "output_type": "execute_result",
     "data": {
      "text/plain": "<folium.folium.Map at 0x1db630d1288>",
      "text/html": "<div style=\"width:100%;\"><div style=\"position:relative;width:100%;height:0;padding-bottom:60%;\"><span style=\"color:#565656\">Make this Notebook Trusted to load map: File -> Trust Notebook</span><iframe src=\"about:blank\" style=\"position:absolute;width:100%;height:100%;left:0;top:0;border:none !important;\" data-html=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 onload=\"this.contentDocument.open();this.contentDocument.write(atob(this.getAttribute('data-html')));this.contentDocument.close();\" allowfullscreen webkitallowfullscreen mozallowfullscreen></iframe></div></div>"
     },
     "metadata": {},
     "execution_count": 17
    }
   ],
   "source": [
    "map_patna = folium.Map(location = [latitude, longitude], zoom_start = 11)\n",
    "\n",
    "for lat, lng, Neighbourhood in zip(patna_df['Latitude'], patna_df['Longitude'], patna_df['Neighbourhood']):\n",
    "    label = '{}'.format(Neighbourhood)\n",
    "    label = folium.Popup(label, parse_html = True)\n",
    "    folium.CircleMarker(\n",
    "        [lat,lng], radius = 5, popup = label, color = 'green',\n",
    "        fill = True, fill_color = '#3186cc', fill_opacity = 0.7\n",
    "    ).add_to(map_patna)\n",
    "\n",
    "map_patna"
   ]
  },
  {
   "cell_type": "code",
   "execution_count": 18,
   "metadata": {},
   "outputs": [],
   "source": [
    "map_patna.save('map_patna.html')"
   ]
  },
  {
   "cell_type": "markdown",
   "metadata": {},
   "source": [
    "Using Foursquare API to explore the neighbourhood i.e. to get the top 100 venues that are within a radius of 2000 meters"
   ]
  },
  {
   "cell_type": "code",
   "execution_count": 19,
   "metadata": {},
   "outputs": [],
   "source": [
    "CLIENT_ID = 'ZB1TDQHGNJBFB2SWNLEO1X2XBFSSRJCMYZLQX4GO4AINNH2Z'\n",
    "CLIENT_SECRET = 'XG3J3WBJOVUXD0KEOVUBFKFISILUJTEBL5EVZHR2FX1EWJEL'\n",
    "VERSION = '20200703'\n"
   ]
  },
  {
   "cell_type": "code",
   "execution_count": 38,
   "metadata": {},
   "outputs": [],
   "source": [
    "radius = 10000\n",
    "LIMIT = 100\n",
    "\n",
    "venues = []\n",
    "\n",
    "for lat, lng, Neighbourhood in zip(patna_df['Latitude'], patna_df['Longitude'], patna_df['Neighbourhood']):\n",
    "    url = \"https://api.foursquare.com/v2/venues/explore?client_id={}&client_secret={}&v={}&ll={},{}&radius={}&limit={}\".format(\n",
    "        CLIENT_ID, CLIENT_SECRET, VERSION,\n",
    "        lat, lng, radius, LIMIT\n",
    "    )\n",
    "\n",
    "results = requests.get(url).json()['response']['groups'][0]['items']\n",
    "\n",
    "for venue in results:\n",
    "    venues.append((\n",
    "        Neighbourhood, lat, lng,\n",
    "        venue['venue']['name'],\n",
    "        venue['venue']['location']['lat'],\n",
    "        venue['venue']['location']['lng'],\n",
    "        venue['venue']['categories'][0]['name']\n",
    "    ))"
   ]
  },
  {
   "cell_type": "code",
   "execution_count": 39,
   "metadata": {
    "tags": []
   },
   "outputs": [
    {
     "output_type": "stream",
     "name": "stdout",
     "text": "(24, 7)\n"
    },
    {
     "output_type": "execute_result",
     "data": {
      "text/plain": "     Neighbourhood  Latitude  Longitude        VenueName  VenueLatitude  \\\n0  Shivpuri, Patna  25.58239   85.10094  Patna Golf Club      25.602367   \n1  Shivpuri, Patna  25.58239   85.10094        Patna Zoo      25.600763   \n2  Shivpuri, Patna  25.58239   85.10094  Cafe Coffee Day      25.620594   \n3  Shivpuri, Patna  25.58239   85.10094       17 Degrees      25.634401   \n4  Shivpuri, Patna  25.58239   85.10094    Gandhi Maidan      25.617395   \n\n   VenueLongitude      VenueCategory  \n0       85.095892        Golf Course  \n1       85.097267               Park  \n2       85.112876               Café  \n3       85.106257  Indian Restaurant  \n4       85.145020               Park  ",
      "text/html": "<div>\n<style scoped>\n    .dataframe tbody tr th:only-of-type {\n        vertical-align: middle;\n    }\n\n    .dataframe tbody tr th {\n        vertical-align: top;\n    }\n\n    .dataframe thead th {\n        text-align: right;\n    }\n</style>\n<table border=\"1\" class=\"dataframe\">\n  <thead>\n    <tr style=\"text-align: right;\">\n      <th></th>\n      <th>Neighbourhood</th>\n      <th>Latitude</th>\n      <th>Longitude</th>\n      <th>VenueName</th>\n      <th>VenueLatitude</th>\n      <th>VenueLongitude</th>\n      <th>VenueCategory</th>\n    </tr>\n  </thead>\n  <tbody>\n    <tr>\n      <th>0</th>\n      <td>Shivpuri, Patna</td>\n      <td>25.58239</td>\n      <td>85.10094</td>\n      <td>Patna Golf Club</td>\n      <td>25.602367</td>\n      <td>85.095892</td>\n      <td>Golf Course</td>\n    </tr>\n    <tr>\n      <th>1</th>\n      <td>Shivpuri, Patna</td>\n      <td>25.58239</td>\n      <td>85.10094</td>\n      <td>Patna Zoo</td>\n      <td>25.600763</td>\n      <td>85.097267</td>\n      <td>Park</td>\n    </tr>\n    <tr>\n      <th>2</th>\n      <td>Shivpuri, Patna</td>\n      <td>25.58239</td>\n      <td>85.10094</td>\n      <td>Cafe Coffee Day</td>\n      <td>25.620594</td>\n      <td>85.112876</td>\n      <td>Café</td>\n    </tr>\n    <tr>\n      <th>3</th>\n      <td>Shivpuri, Patna</td>\n      <td>25.58239</td>\n      <td>85.10094</td>\n      <td>17 Degrees</td>\n      <td>25.634401</td>\n      <td>85.106257</td>\n      <td>Indian Restaurant</td>\n    </tr>\n    <tr>\n      <th>4</th>\n      <td>Shivpuri, Patna</td>\n      <td>25.58239</td>\n      <td>85.10094</td>\n      <td>Gandhi Maidan</td>\n      <td>25.617395</td>\n      <td>85.145020</td>\n      <td>Park</td>\n    </tr>\n  </tbody>\n</table>\n</div>"
     },
     "metadata": {},
     "execution_count": 39
    }
   ],
   "source": [
    "venues_df = pd.DataFrame(venues)\n",
    "\n",
    "venues_df.columns = ['Neighbourhood', 'Latitude', 'Longitude', 'VenueName', 'VenueLatitude', 'VenueLongitude', 'VenueCategory']\n",
    "\n",
    "print(venues_df.shape)\n",
    "venues_df.head()"
   ]
  },
  {
   "cell_type": "code",
   "execution_count": 40,
   "metadata": {},
   "outputs": [
    {
     "output_type": "execute_result",
     "data": {
      "text/plain": "                 Latitude  Longitude  VenueName  VenueLatitude  \\\nNeighbourhood                                                    \nShivpuri, Patna        24         24         24             24   \n\n                 VenueLongitude  VenueCategory  \nNeighbourhood                                   \nShivpuri, Patna              24             24  ",
      "text/html": "<div>\n<style scoped>\n    .dataframe tbody tr th:only-of-type {\n        vertical-align: middle;\n    }\n\n    .dataframe tbody tr th {\n        vertical-align: top;\n    }\n\n    .dataframe thead th {\n        text-align: right;\n    }\n</style>\n<table border=\"1\" class=\"dataframe\">\n  <thead>\n    <tr style=\"text-align: right;\">\n      <th></th>\n      <th>Latitude</th>\n      <th>Longitude</th>\n      <th>VenueName</th>\n      <th>VenueLatitude</th>\n      <th>VenueLongitude</th>\n      <th>VenueCategory</th>\n    </tr>\n    <tr>\n      <th>Neighbourhood</th>\n      <th></th>\n      <th></th>\n      <th></th>\n      <th></th>\n      <th></th>\n      <th></th>\n    </tr>\n  </thead>\n  <tbody>\n    <tr>\n      <th>Shivpuri, Patna</th>\n      <td>24</td>\n      <td>24</td>\n      <td>24</td>\n      <td>24</td>\n      <td>24</td>\n      <td>24</td>\n    </tr>\n  </tbody>\n</table>\n</div>"
     },
     "metadata": {},
     "execution_count": 40
    }
   ],
   "source": [
    "venues_df.groupby(['Neighbourhood']).count()"
   ]
  },
  {
   "cell_type": "code",
   "execution_count": 41,
   "metadata": {
    "tags": []
   },
   "outputs": [
    {
     "output_type": "stream",
     "name": "stdout",
     "text": "No of unique categories 16\n"
    }
   ],
   "source": [
    "print('No of unique categories {}'.format(len(venues_df['VenueCategory'].unique())))"
   ]
  },
  {
   "cell_type": "code",
   "execution_count": 42,
   "metadata": {},
   "outputs": [
    {
     "output_type": "execute_result",
     "data": {
      "text/plain": "array(['Golf Course', 'Park', 'Café', 'Indian Restaurant',\n       'Shopping Mall', 'Hotel Bar', 'Fast Food Restaurant',\n       'Chinese Restaurant', 'Pizza Place'], dtype=object)"
     },
     "metadata": {},
     "execution_count": 42
    }
   ],
   "source": [
    "venues_df['VenueCategory'].unique()[:9]"
   ]
  },
  {
   "cell_type": "code",
   "execution_count": 44,
   "metadata": {},
   "outputs": [
    {
     "output_type": "execute_result",
     "data": {
      "text/plain": "False"
     },
     "metadata": {},
     "execution_count": 44
    }
   ],
   "source": [
    "'Neighborhood' in venues_df['VenueCategory'].unique()"
   ]
  },
  {
   "cell_type": "markdown",
   "metadata": {},
   "source": [
    "Analyze Each Neighbourhood"
   ]
  },
  {
   "cell_type": "code",
   "execution_count": 45,
   "metadata": {
    "tags": []
   },
   "outputs": [
    {
     "output_type": "stream",
     "name": "stdout",
     "text": "(24, 17)\n"
    },
    {
     "output_type": "execute_result",
     "data": {
      "text/plain": "     Neighbourhood  American Restaurant  Business Service  Café  \\\n0  Shivpuri, Patna                    0                 0     0   \n1  Shivpuri, Patna                    0                 0     0   \n2  Shivpuri, Patna                    0                 0     1   \n3  Shivpuri, Patna                    0                 0     0   \n4  Shivpuri, Patna                    0                 0     0   \n\n   Chinese Restaurant  Department Store  Fast Food Restaurant  Golf Course  \\\n0                   0                 0                     0            1   \n1                   0                 0                     0            0   \n2                   0                 0                     0            0   \n3                   0                 0                     0            0   \n4                   0                 0                     0            0   \n\n   Hotel  Hotel Bar  Indian Restaurant  Juice Bar  Multiplex  Park  \\\n0      0          0                  0          0          0     0   \n1      0          0                  0          0          0     1   \n2      0          0                  0          0          0     0   \n3      0          0                  1          0          0     0   \n4      0          0                  0          0          0     1   \n\n   Pizza Place  Shopping Mall  Train Station  \n0            0              0              0  \n1            0              0              0  \n2            0              0              0  \n3            0              0              0  \n4            0              0              0  ",
      "text/html": "<div>\n<style scoped>\n    .dataframe tbody tr th:only-of-type {\n        vertical-align: middle;\n    }\n\n    .dataframe tbody tr th {\n        vertical-align: top;\n    }\n\n    .dataframe thead th {\n        text-align: right;\n    }\n</style>\n<table border=\"1\" class=\"dataframe\">\n  <thead>\n    <tr style=\"text-align: right;\">\n      <th></th>\n      <th>Neighbourhood</th>\n      <th>American Restaurant</th>\n      <th>Business Service</th>\n      <th>Café</th>\n      <th>Chinese Restaurant</th>\n      <th>Department Store</th>\n      <th>Fast Food Restaurant</th>\n      <th>Golf Course</th>\n      <th>Hotel</th>\n      <th>Hotel Bar</th>\n      <th>Indian Restaurant</th>\n      <th>Juice Bar</th>\n      <th>Multiplex</th>\n      <th>Park</th>\n      <th>Pizza Place</th>\n      <th>Shopping Mall</th>\n      <th>Train Station</th>\n    </tr>\n  </thead>\n  <tbody>\n    <tr>\n      <th>0</th>\n      <td>Shivpuri, Patna</td>\n      <td>0</td>\n      <td>0</td>\n      <td>0</td>\n      <td>0</td>\n      <td>0</td>\n      <td>0</td>\n      <td>1</td>\n      <td>0</td>\n      <td>0</td>\n      <td>0</td>\n      <td>0</td>\n      <td>0</td>\n      <td>0</td>\n      <td>0</td>\n      <td>0</td>\n      <td>0</td>\n    </tr>\n    <tr>\n      <th>1</th>\n      <td>Shivpuri, Patna</td>\n      <td>0</td>\n      <td>0</td>\n      <td>0</td>\n      <td>0</td>\n      <td>0</td>\n      <td>0</td>\n      <td>0</td>\n      <td>0</td>\n      <td>0</td>\n      <td>0</td>\n      <td>0</td>\n      <td>0</td>\n      <td>1</td>\n      <td>0</td>\n      <td>0</td>\n      <td>0</td>\n    </tr>\n    <tr>\n      <th>2</th>\n      <td>Shivpuri, Patna</td>\n      <td>0</td>\n      <td>0</td>\n      <td>1</td>\n      <td>0</td>\n      <td>0</td>\n      <td>0</td>\n      <td>0</td>\n      <td>0</td>\n      <td>0</td>\n      <td>0</td>\n      <td>0</td>\n      <td>0</td>\n      <td>0</td>\n      <td>0</td>\n      <td>0</td>\n      <td>0</td>\n    </tr>\n    <tr>\n      <th>3</th>\n      <td>Shivpuri, Patna</td>\n      <td>0</td>\n      <td>0</td>\n      <td>0</td>\n      <td>0</td>\n      <td>0</td>\n      <td>0</td>\n      <td>0</td>\n      <td>0</td>\n      <td>0</td>\n      <td>1</td>\n      <td>0</td>\n      <td>0</td>\n      <td>0</td>\n      <td>0</td>\n      <td>0</td>\n      <td>0</td>\n    </tr>\n    <tr>\n      <th>4</th>\n      <td>Shivpuri, Patna</td>\n      <td>0</td>\n      <td>0</td>\n      <td>0</td>\n      <td>0</td>\n      <td>0</td>\n      <td>0</td>\n      <td>0</td>\n      <td>0</td>\n      <td>0</td>\n      <td>0</td>\n      <td>0</td>\n      <td>0</td>\n      <td>1</td>\n      <td>0</td>\n      <td>0</td>\n      <td>0</td>\n    </tr>\n  </tbody>\n</table>\n</div>"
     },
     "metadata": {},
     "execution_count": 45
    }
   ],
   "source": [
    "patna_onehot = pd.get_dummies(venues_df[['VenueCategory']], prefix = \"\", prefix_sep = \"\")\n",
    "\n",
    "patna_onehot['Neighbourhood'] = venues_df['Neighbourhood']\n",
    "\n",
    "fixed_columns = [patna_onehot.columns[-1]]+list(patna_onehot.columns[:-1])\n",
    "patna_onehot = patna_onehot[fixed_columns]\n",
    "\n",
    "print(patna_onehot.shape)\n",
    "patna_onehot.head()"
   ]
  },
  {
   "cell_type": "code",
   "execution_count": 46,
   "metadata": {
    "tags": []
   },
   "outputs": [
    {
     "output_type": "stream",
     "name": "stdout",
     "text": "(1, 17)\n"
    },
    {
     "output_type": "execute_result",
     "data": {
      "text/plain": "     Neighbourhood  American Restaurant  Business Service   Café  \\\n0  Shivpuri, Patna             0.041667          0.041667  0.125   \n\n   Chinese Restaurant  Department Store  Fast Food Restaurant  Golf Course  \\\n0            0.041667          0.041667              0.083333     0.041667   \n\n      Hotel  Hotel Bar  Indian Restaurant  Juice Bar  Multiplex      Park  \\\n0  0.083333   0.041667           0.083333   0.041667   0.041667  0.083333   \n\n   Pizza Place  Shopping Mall  Train Station  \n0        0.125       0.041667       0.041667  ",
      "text/html": "<div>\n<style scoped>\n    .dataframe tbody tr th:only-of-type {\n        vertical-align: middle;\n    }\n\n    .dataframe tbody tr th {\n        vertical-align: top;\n    }\n\n    .dataframe thead th {\n        text-align: right;\n    }\n</style>\n<table border=\"1\" class=\"dataframe\">\n  <thead>\n    <tr style=\"text-align: right;\">\n      <th></th>\n      <th>Neighbourhood</th>\n      <th>American Restaurant</th>\n      <th>Business Service</th>\n      <th>Café</th>\n      <th>Chinese Restaurant</th>\n      <th>Department Store</th>\n      <th>Fast Food Restaurant</th>\n      <th>Golf Course</th>\n      <th>Hotel</th>\n      <th>Hotel Bar</th>\n      <th>Indian Restaurant</th>\n      <th>Juice Bar</th>\n      <th>Multiplex</th>\n      <th>Park</th>\n      <th>Pizza Place</th>\n      <th>Shopping Mall</th>\n      <th>Train Station</th>\n    </tr>\n  </thead>\n  <tbody>\n    <tr>\n      <th>0</th>\n      <td>Shivpuri, Patna</td>\n      <td>0.041667</td>\n      <td>0.041667</td>\n      <td>0.125</td>\n      <td>0.041667</td>\n      <td>0.041667</td>\n      <td>0.083333</td>\n      <td>0.041667</td>\n      <td>0.083333</td>\n      <td>0.041667</td>\n      <td>0.083333</td>\n      <td>0.041667</td>\n      <td>0.041667</td>\n      <td>0.083333</td>\n      <td>0.125</td>\n      <td>0.041667</td>\n      <td>0.041667</td>\n    </tr>\n  </tbody>\n</table>\n</div>"
     },
     "metadata": {},
     "execution_count": 46
    }
   ],
   "source": [
    "patna_grouped = patna_onehot.groupby(['Neighbourhood']).mean().reset_index()\n",
    "\n",
    "print(patna_grouped.shape)\n",
    "patna_grouped"
   ]
  },
  {
   "cell_type": "markdown",
   "metadata": {},
   "source": [
    "Observation\n",
    "\n",
    "\n",
    "Due to Lack Of data for the coordinates of patna on Foursquare API we cannot analyze all the parts of patna.\n",
    "there was only one location for which there was data present \n",
    "this location is called Shivpuri, Patna.\n",
    "\n",
    "lack of data for a particular region is another reason for this appropriate analysis so movint further will the only availaible data, we can predict that in this region there are plenty of\n",
    "Resturants, Parks, Shopping Malls.\n",
    "\n",
    "thus, property developers are advised to prefer this location for their projects ."
   ]
  },
  {
   "cell_type": "code",
   "execution_count": null,
   "metadata": {},
   "outputs": [],
   "source": []
  }
 ],
 "metadata": {
  "kernelspec": {
   "display_name": "Python 3",
   "language": "python",
   "name": "python3"
  },
  "language_info": {
   "codemirror_mode": {
    "name": "ipython",
    "version": 3
   },
   "file_extension": ".py",
   "mimetype": "text/x-python",
   "name": "python",
   "nbconvert_exporter": "python",
   "pygments_lexer": "ipython3",
   "version": "3.7.6"
  }
 },
 "nbformat": 4,
 "nbformat_minor": 4
}